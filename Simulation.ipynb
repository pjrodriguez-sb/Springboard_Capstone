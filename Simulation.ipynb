{
 "metadata": {
  "language_info": {
   "codemirror_mode": {
    "name": "ipython",
    "version": 3
   },
   "file_extension": ".py",
   "mimetype": "text/x-python",
   "name": "python",
   "nbconvert_exporter": "python",
   "pygments_lexer": "ipython3",
   "version": "3.8.3-final"
  },
  "orig_nbformat": 2,
  "kernelspec": {
   "name": "python3",
   "display_name": "Python 3",
   "language": "python"
  }
 },
 "nbformat": 4,
 "nbformat_minor": 2,
 "cells": [
  {
   "cell_type": "code",
   "execution_count": 1,
   "metadata": {},
   "outputs": [],
   "source": [
    "import itertools\n",
    "from collections import defaultdict\n",
    "import random\n",
    "import numpy as np\n",
    "import pandas as pd\n",
    "import math\n",
    "import time\n",
    "import statistics\n",
    "import simpy\n",
    "import json\n",
    "from matplotlib.backends.backend_tkagg import FigureCanvasTkAgg\n",
    "import matplotlib.pyplot as plt\n",
    "import tkinter as tk\n",
    "from PIL import ImageTk"
   ]
  },
  {
   "cell_type": "code",
   "execution_count": 2,
   "metadata": {},
   "outputs": [],
   "source": [
    "df = pd.read_csv('/Users/pedrorodriguez/Desktop/Springboard/Capstone Project/4th part/production_line_mean_std.csv')"
   ]
  },
  {
   "cell_type": "code",
   "execution_count": 3,
   "metadata": {},
   "outputs": [],
   "source": [
    "del df['Unnamed: 0']"
   ]
  },
  {
   "source": [
    "# Brainstorming\n",
    "\n",
    "## How to create the algorithm for the simulations\n",
    "\n",
    "**Process line idea**\n",
    "\n",
    "1) The daily goal per shift is to produce 600 units, meaning that the first station has to have an input of a minimum of 50 units per hour to achieve the goal. The first station will have an output of 50 units per hour.\n",
    "\n",
    "2) The units' processing time will be the average of the cycle time of each station.\n",
    "\n",
    "3) The unit's waiting time will be the difference between the first and second stations. \n",
    "\n",
    "### Process flow\n",
    "\n",
    "Input --> station1 --> station2 --> station3 --> Output\n",
    "\n",
    "### Formula\n",
    "\n",
    "station1 = Cycle_time_mean\n",
    "\n",
    "station2 = Cycle_time_mean\n",
    "\n",
    "station3 = Cycle_time_mean\n",
    "\n"
   ],
   "cell_type": "markdown",
   "metadata": {}
  },
  {
   "cell_type": "code",
   "execution_count": 4,
   "metadata": {},
   "outputs": [
    {
     "output_type": "stream",
     "name": "stdout",
     "text": [
      "The production line have 18 stations and is used by the operator 11.0 hours per shift. \nThe total capacity of the production line per shift is 640 running with 73.02 of efficiency.\n"
     ]
    }
   ],
   "source": [
    "#Capacity hourly\n",
    "station_no = df['station'].nunique()\n",
    "shift_hr_day = 12\n",
    "total_pd_line_capacity_hr = station_no * shift_hr_day\n",
    "\n",
    "#Total Operator time to use machine\n",
    "lunch_time = 0.5#hr\n",
    "break_time = 0.5 #hr\n",
    "shift_time = 11.5 #hr\n",
    "total_operator_time = shift_hr_day - lunch_time - break_time\n",
    "no_operator = station_no #The company have one operator per station, meaning that is the same number of station_no.\n",
    "\n",
    "#Calculating the Production efficiency line \n",
    "time_one_unit = (df['Mean'].max())/60\n",
    "total_time_produced = (600/11)* time_one_unit\n",
    "total_time_attended = no_operator *  total_operator_time\n",
    "efficiency = ((total_time_produced)/total_time_attended)\n",
    "\n",
    "#Calculating the production line capacity\n",
    "capacity = ((total_pd_line_capacity_hr * total_operator_time)*efficiency)\n",
    "\n",
    "print('The production line have', station_no, 'stations and is used by the operator', total_operator_time, 'hours per shift. \\nThe total capacity of the production line per shift is', int(capacity), 'running with', round((1 - efficiency)*100, 2),'of efficiency.')"
   ]
  },
  {
   "cell_type": "code",
   "execution_count": 5,
   "metadata": {},
   "outputs": [
    {
     "output_type": "stream",
     "name": "stdout",
     "text": [
      "Station 1 interval 16 , 17\nStation 2 interval 12 , 13\nStation 3 interval 15 , 17\n"
     ]
    }
   ],
   "source": [
    "#Variables \n",
    "Input = 52\n",
    "\n",
    "#Station mean\n",
    "station1_mean = df.iloc[0][\"Mean\"]\n",
    "station2_mean = df.iloc[1][\"Mean\"]\n",
    "station3_mean = df.iloc[2][\"Mean\"]\n",
    "\n",
    "#Station standard deviation\n",
    "station1_std = df.iloc[0][\"Std\"]\n",
    "station2_std = df.iloc[1][\"Std\"]\n",
    "station3_std = df.iloc[2][\"Std\"]\n",
    "\n",
    "#Waiting time between stations\n",
    "Waiting_time_3_2 = station3_mean - station2_mean\n",
    "\n",
    "Min1 = int(station1_mean - station1_std)\n",
    "Max1 = int(station1_mean + station1_std)\n",
    "\n",
    "Min2 = int(station2_mean - station2_std)\n",
    "Max2 = int(station2_mean + station2_std)\n",
    "\n",
    "Min3 = int(station3_mean - station3_std)\n",
    "Max3 = int(station3_mean + station3_std)\n",
    "\n",
    "print('Station 1 interval' ,Min1, ',',Max1)\n",
    "print('Station 2 interval' ,Min2, ',',Max2)\n",
    "print('Station 3 interval' ,Min3, ',',Max3)"
   ]
  },
  {
   "source": [
    "env = simpy.Environment()"
   ],
   "cell_type": "markdown",
   "metadata": {}
  },
  {
   "cell_type": "code",
   "execution_count": 6,
   "metadata": {},
   "outputs": [],
   "source": [
    "wait_times = []\n",
    "\n",
    "class Production_line(object):\n",
    "    def __init__(self, env, num_operators, num_operators2, num_operators3):\n",
    "        self.env = env\n",
    "        self.station1_op = simpy.Resource(env, num_operators)\n",
    "        self.station2_op = simpy.Resource(env, num_operators2)\n",
    "        self.station3_op = simpy.Resource(env, num_operators3)\n",
    "\n",
    "    def station(self, unit):\n",
    "        yield self.env.timeout(random.randint(Min1, Max1))\n",
    "\n",
    "    def station2(self, unit):\n",
    "        yield self.env.timeout(random.randint(Min2, Max2))  \n",
    "\n",
    "    def station3(self, unit):\n",
    "        yield self.env.timeout(random.randint(Min3, Max3))   "
   ]
  },
  {
   "cell_type": "code",
   "execution_count": 7,
   "metadata": {},
   "outputs": [],
   "source": [
    "def unit_through_process(env, unit, production_line):\n",
    "    arrival_time = env.now\n",
    "\n",
    "    with production_line.station1_op.request() as request:\n",
    "        yield request\n",
    "        yield env.process(production_line.station(unit))\n",
    "\n",
    "    with production_line.station2_op.request() as request:\n",
    "        yield request\n",
    "        yield env.process(production_line.station2(unit))\n",
    "\n",
    "    with production_line.station3_op.request() as request:\n",
    "        yield request\n",
    "        yield env.process(production_line.station3(unit)) \n",
    "\n",
    "    #Units heads into the station\n",
    "    wait_times.append(env.now - arrival_time)"
   ]
  },
  {
   "cell_type": "code",
   "execution_count": 8,
   "metadata": {},
   "outputs": [],
   "source": [
    "    def run_production_line(env, num_operators, num_operators2, num_operators3):\n",
    "        \n",
    "        production_line= Production_line(env, num_operators, num_operators2, num_operators3)\n",
    "\n",
    "        for unit in range(3):\n",
    "            env.process(unit_through_process(env, unit, production_line))\n",
    "\n",
    "        while True:\n",
    "            yield env.timeout(0.20)\n",
    "        \n",
    "        unit += 1\n",
    "        env.process(unit_through_process(env, unit, pro))"
   ]
  },
  {
   "cell_type": "code",
   "execution_count": 9,
   "metadata": {},
   "outputs": [],
   "source": [
    "def get_average_wait_time(wait_times):\n",
    "    average_wait = statistics.mean(wait_times)"
   ]
  },
  {
   "cell_type": "code",
   "execution_count": 10,
   "metadata": {},
   "outputs": [],
   "source": [
    "def calculate_wait_time(arrival_times, departure_times):\n",
    "    average_wait = statistics.mean(wait_times)\n",
    "    # Pretty print the results\n",
    "    minutes, frac_minutes = divmod(average_wait, 1)\n",
    "    seconds = frac_minutes * 60\n",
    "    return round(minutes), round(seconds)"
   ]
  },
  {
   "cell_type": "code",
   "execution_count": 11,
   "metadata": {},
   "outputs": [],
   "source": [
    "def get_user_input():\n",
    "    num_operators = input(\"Input # of stationer 1 working: \")\n",
    "    num_operators2 = input(\"Input # of stationer 2 working: \")\n",
    "    num_operators3 = input(\"Input # of stationer 3 working: \")\n",
    "    params = [num_operators, num_operators2, num_operators3]\n",
    "    if all(str(i).isdigit() for i in params):  # Check input is valid\n",
    "        params = [int(x) for x in params]\n",
    "    else:\n",
    "        print(\n",
    "            \"Could not parse input. The simulation will use default values:\",\n",
    "            \"\\n1 stationer 1, 1 stationer 2, 1 stationer 3.\",\n",
    "        )\n",
    "        params = [1, 1, 1]\n",
    "    return params"
   ]
  },
  {
   "cell_type": "code",
   "execution_count": 12,
   "metadata": {},
   "outputs": [],
   "source": [
    "def main():\n",
    "  # Setup\n",
    "  num_operators, num_operators2, num_operators3 = get_user_input()\n",
    "\n",
    "  # Run the simulation\n",
    "  env = simpy.Environment()\n",
    "  env.process(run_production_line(env, num_operators, num_operators2, num_operators3))\n",
    "  env.run(until=90)\n",
    "\n",
    "  # View the results\n",
    "  mins, secs = get_average_wait_time(wait_times)\n",
    "  print(\n",
    "      \"Running simulation...\",\n",
    "      f\"\\nThe average wait time is {mins} minutes and {secs} seconds.\",\n",
    "  )"
   ]
  },
  {
   "cell_type": "code",
   "execution_count": 13,
   "metadata": {},
   "outputs": [
    {
     "output_type": "error",
     "ename": "TypeError",
     "evalue": "cannot unpack non-iterable NoneType object",
     "traceback": [
      "\u001b[0;31m---------------------------------------------------------------------------\u001b[0m",
      "\u001b[0;31mTypeError\u001b[0m                                 Traceback (most recent call last)",
      "\u001b[0;32m<ipython-input-13-c7bc734e5e35>\u001b[0m in \u001b[0;36m<module>\u001b[0;34m\u001b[0m\n\u001b[1;32m      1\u001b[0m \u001b[0;32mif\u001b[0m \u001b[0m__name__\u001b[0m \u001b[0;34m==\u001b[0m \u001b[0;34m'__main__'\u001b[0m\u001b[0;34m:\u001b[0m\u001b[0;34m\u001b[0m\u001b[0;34m\u001b[0m\u001b[0m\n\u001b[0;32m----> 2\u001b[0;31m     \u001b[0mmain\u001b[0m\u001b[0;34m(\u001b[0m\u001b[0;34m)\u001b[0m\u001b[0;34m\u001b[0m\u001b[0;34m\u001b[0m\u001b[0m\n\u001b[0m",
      "\u001b[0;32m<ipython-input-12-c2e974c9af42>\u001b[0m in \u001b[0;36mmain\u001b[0;34m()\u001b[0m\n\u001b[1;32m      9\u001b[0m \u001b[0;34m\u001b[0m\u001b[0m\n\u001b[1;32m     10\u001b[0m   \u001b[0;31m# View the results\u001b[0m\u001b[0;34m\u001b[0m\u001b[0;34m\u001b[0m\u001b[0;34m\u001b[0m\u001b[0m\n\u001b[0;32m---> 11\u001b[0;31m   \u001b[0mmins\u001b[0m\u001b[0;34m,\u001b[0m \u001b[0msecs\u001b[0m \u001b[0;34m=\u001b[0m \u001b[0mget_average_wait_time\u001b[0m\u001b[0;34m(\u001b[0m\u001b[0mwait_times\u001b[0m\u001b[0;34m)\u001b[0m\u001b[0;34m\u001b[0m\u001b[0;34m\u001b[0m\u001b[0m\n\u001b[0m\u001b[1;32m     12\u001b[0m   print(\n\u001b[1;32m     13\u001b[0m       \u001b[0;34m\"Running simulation...\"\u001b[0m\u001b[0;34m,\u001b[0m\u001b[0;34m\u001b[0m\u001b[0;34m\u001b[0m\u001b[0m\n",
      "\u001b[0;31mTypeError\u001b[0m: cannot unpack non-iterable NoneType object"
     ]
    }
   ],
   "source": [
    "if __name__ == '__main__':\n",
    "    main()"
   ]
  },
  {
   "cell_type": "code",
   "execution_count": null,
   "metadata": {},
   "outputs": [],
   "source": []
  }
 ]
}